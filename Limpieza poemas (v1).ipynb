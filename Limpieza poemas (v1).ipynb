{
 "cells": [
  {
   "cell_type": "markdown",
   "id": "5a796949",
   "metadata": {},
   "source": [
    "# Limpieza de poemas para publicacion"
   ]
  },
  {
   "cell_type": "code",
   "execution_count": null,
   "id": "2ce7291a",
   "metadata": {},
   "outputs": [],
   "source": [
    "findesierto1 = \"\"\"hay un desierto a la deriva \n",
    "enterrado entre tormentas\n",
    "hay un escorpión inteligente  \n",
    "\n",
    "tallado en cada muerte\n",
    "y hay una muerte tras otra  \n",
    "\n",
    "entusiasmadas con la religión  \n",
    "\n",
    "aves frías te golpean la cabeza \n",
    "y aprendes enseguida  \n",
    "\n",
    "hay un río dentro del río  \n",
    "\n",
    "fabricando fiebres delicadas\n",
    "hay una puerta detrás de la puerta  \n",
    "\n",
    "y un bizcocho detrás del mundo  \n",
    "\n",
    "excavamos en los días de la tiza \n",
    "vertebrado / invertebrado  \n",
    "\n",
    "escribimos para tapar los hoyos \n",
    "y reparar las faltas  \"\"\""
   ]
  },
  {
   "cell_type": "code",
   "execution_count": 30,
   "id": "bfe53d31",
   "metadata": {},
   "outputs": [
    {
     "data": {
      "text/plain": [
       "'hay un desierto a la deriva \\nenterrado entre tormentas\\nhay un escorpión inteligente  \\n\\ntallado en cada muerte\\ny hay una muerte tras otra  \\n\\nentusiasmadas con la religión  \\n\\naves frías te golpean la cabeza \\ny aprendes enseguida  \\n\\nhay un río dentro del río  \\n\\nfabricando fiebres delicadas\\nhay una puerta detrás de la puerta  \\n\\ny un bizcocho detrás del mundo  \\n\\nexcavamos en los días de la tiza \\nvertebrado / invertebrado  \\n\\nescribimos para tapar los hoyos \\ny reparar las faltas  '"
      ]
     },
     "execution_count": 30,
     "metadata": {},
     "output_type": "execute_result"
    }
   ],
   "source": [
    "findesierto1"
   ]
  },
  {
   "cell_type": "code",
   "execution_count": 31,
   "id": "32023b79",
   "metadata": {},
   "outputs": [
    {
     "name": "stdout",
     "output_type": "stream",
     "text": [
      "['hay un desierto a la deriva ', 'enterrado entre tormentas', 'hay un escorpión inteligente  ', '', 'tallado en cada muerte', 'y hay una muerte tras otra  ', '', 'entusiasmadas con la religión  ', '', 'aves frías te golpean la cabeza ', 'y aprendes enseguida  ', '', 'hay un río dentro del río  ', '', 'fabricando fiebres delicadas', 'hay una puerta detrás de la puerta  ', '', 'y un bizcocho detrás del mundo  ', '', 'excavamos en los días de la tiza ', 'vertebrado / invertebrado  ', '', 'escribimos para tapar los hoyos ', 'y reparar las faltas  ']\n"
     ]
    }
   ],
   "source": [
    "findesierto1_lineas = findesierto1.splitlines()\n",
    "print(findesierto1_lineas)"
   ]
  },
  {
   "cell_type": "code",
   "execution_count": 34,
   "id": "586808d7",
   "metadata": {},
   "outputs": [
    {
     "name": "stdout",
     "output_type": "stream",
     "text": [
      "['hay un desierto a la deriva ', 'enterrado entre tormentas', 'hay un escorpión inteligente  ', 'tallado en cada muerte', 'y hay una muerte tras otra  ', 'entusiasmadas con la religión  ', 'aves frías te golpean la cabeza ', 'y aprendes enseguida  ', 'hay un río dentro del río  ', 'fabricando fiebres delicadas', 'hay una puerta detrás de la puerta  ', 'y un bizcocho detrás del mundo  ', 'excavamos en los días de la tiza ', 'vertebrado / invertebrado  ', 'escribimos para tapar los hoyos ', 'y reparar las faltas  ']\n"
     ]
    }
   ],
   "source": [
    "findesierto1_limpio = [linea for linea in findesierto1_lineas if linea]\n",
    "print(findesierto1_limpio)"
   ]
  },
  {
   "cell_type": "code",
   "execution_count": 35,
   "id": "d6fc682b",
   "metadata": {},
   "outputs": [
    {
     "data": {
      "text/plain": [
       "'hay un desierto a la deriva '"
      ]
     },
     "execution_count": 35,
     "metadata": {},
     "output_type": "execute_result"
    }
   ],
   "source": [
    "findesierto1_limpio[0]"
   ]
  },
  {
   "cell_type": "code",
   "execution_count": 37,
   "id": "fe91f55d",
   "metadata": {},
   "outputs": [],
   "source": [
    "#pip install openpyxl"
   ]
  },
  {
   "cell_type": "code",
   "execution_count": 38,
   "id": "c85095dd",
   "metadata": {},
   "outputs": [],
   "source": [
    "import openpyxl\n",
    "\n",
    "# Crear un nuevo libro de Excel\n",
    "libro_excel = openpyxl.Workbook()\n",
    "\n",
    "# Obtener la hoja activa\n",
    "hoja_activa = libro_excel.active\n",
    "\n",
    "# Lista de elementos\n",
    "##findesierto1_limpio\n",
    "\n",
    "# Copiar cada elemento en una celda\n",
    "for indice, linea in enumerate(findesierto1_limpio):\n",
    "    hoja_activa.cell(row=indice+1, column=1).value = linea\n",
    "\n",
    "# Guardar el libro de Excel\n",
    "libro_excel.save('resultado.xlsx')"
   ]
  },
  {
   "cell_type": "code",
   "execution_count": null,
   "id": "d7e34d76",
   "metadata": {},
   "outputs": [],
   "source": []
  }
 ],
 "metadata": {
  "kernelspec": {
   "display_name": "Python 3 (ipykernel)",
   "language": "python",
   "name": "python3"
  },
  "language_info": {
   "codemirror_mode": {
    "name": "ipython",
    "version": 3
   },
   "file_extension": ".py",
   "mimetype": "text/x-python",
   "name": "python",
   "nbconvert_exporter": "python",
   "pygments_lexer": "ipython3",
   "version": "3.9.2"
  }
 },
 "nbformat": 4,
 "nbformat_minor": 5
}
