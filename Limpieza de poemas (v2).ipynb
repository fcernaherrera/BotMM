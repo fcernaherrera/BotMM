{
 "cells": [
  {
   "cell_type": "code",
   "execution_count": 1,
   "id": "6540f99a",
   "metadata": {},
   "outputs": [],
   "source": [
    "#pip install tkinter"
   ]
  },
  {
   "cell_type": "code",
   "execution_count": 2,
   "id": "b693e35d",
   "metadata": {},
   "outputs": [
    {
     "name": "stdout",
     "output_type": "stream",
     "text": [
      "Textos ingresados:\n",
      "este es el verso en el que la sangre se vuelve vino y el paraíso metrópoli  \n",
      "\n",
      "y la daga imaginaria se clava sobre pechos mojados \n",
      "este es el verso en el que entro al pueblo  \n",
      "\n",
      "y pregunto por ella y por un bar llamado el patio\n",
      "todos volteamos hacia el mismo lugar todos cometimos el mismo error  \n",
      "\n",
      "caminé por estos versos para olvidar tormentos y sentí un alivio pasajero al ver  jacarandás en flor  \n",
      "\n",
      "pero luego todo volvió de golpe y no pude sino escupir sobre estas calles  \n",
      "\n",
      "en este verso llueve como lloverá en el último otoño\n",
      "por fin el actor no es el héroe por fin no hay nada que entender  \n",
      "\n",
      "en dos días llegarán al sur privado de sur  \n",
      "\n",
      "los caballos ya se esconden en las acequias afiebrados \n",
      "en este verso no se puede seguir  \n",
      "\n",
      "este es el verso en el que no se puede seguir  \n"
     ]
    }
   ],
   "source": [
    "import tkinter as tk\n",
    "from tkinter import simpledialog\n",
    "\n",
    "# Crear una ventana principal\n",
    "root = tk.Tk()\n",
    "\n",
    "# Ocultar la ventana principal\n",
    "root.withdraw()\n",
    "\n",
    "# Crear una lista para almacenar los textos ingresados\n",
    "textos = []\n",
    "\n",
    "# Mostrar el cuadro de diálogo de entrada de texto\n",
    "while True:\n",
    "    user_input = simpledialog.askstring(\"Ingresar texto\", \"Por favor, ingrese su texto (o dejar en blanco para salir):\")\n",
    "    if user_input:\n",
    "        # Agregar el texto ingresado a la lista\n",
    "        textos.append(user_input)\n",
    "    else:\n",
    "        break\n",
    "\n",
    "# Mostrar los textos ingresados\n",
    "print(\"Textos ingresados:\")\n",
    "for texto in textos:\n",
    "    print(texto)"
   ]
  },
  {
   "cell_type": "code",
   "execution_count": 3,
   "id": "2eedcc53",
   "metadata": {
    "scrolled": false
   },
   "outputs": [
    {
     "data": {
      "text/plain": [
       "['este es el verso en el que la sangre se vuelve vino y el paraíso metrópoli  \\n\\ny la daga imaginaria se clava sobre pechos mojados \\neste es el verso en el que entro al pueblo  \\n\\ny pregunto por ella y por un bar llamado el patio\\ntodos volteamos hacia el mismo lugar todos cometimos el mismo error  \\n\\ncaminé por estos versos para olvidar tormentos y sentí un alivio pasajero al ver  jacarandás en flor  \\n\\npero luego todo volvió de golpe y no pude sino escupir sobre estas calles  \\n\\nen este verso llueve como lloverá en el último otoño\\npor fin el actor no es el héroe por fin no hay nada que entender  \\n\\nen dos días llegarán al sur privado de sur  \\n\\nlos caballos ya se esconden en las acequias afiebrados \\nen este verso no se puede seguir  \\n\\neste es el verso en el que no se puede seguir  ']"
      ]
     },
     "execution_count": 3,
     "metadata": {},
     "output_type": "execute_result"
    }
   ],
   "source": [
    "textos"
   ]
  },
  {
   "cell_type": "code",
   "execution_count": 4,
   "id": "825f09f5",
   "metadata": {},
   "outputs": [
    {
     "data": {
      "text/plain": [
       "'este es el verso en el que la sangre se vuelve vino y el paraíso metrópoli  \\n\\ny la daga imaginaria se clava sobre pechos mojados \\neste es el verso en el que entro al pueblo  \\n\\ny pregunto por ella y por un bar llamado el patio\\ntodos volteamos hacia el mismo lugar todos cometimos el mismo error  \\n\\ncaminé por estos versos para olvidar tormentos y sentí un alivio pasajero al ver  jacarandás en flor  \\n\\npero luego todo volvió de golpe y no pude sino escupir sobre estas calles  \\n\\nen este verso llueve como lloverá en el último otoño\\npor fin el actor no es el héroe por fin no hay nada que entender  \\n\\nen dos días llegarán al sur privado de sur  \\n\\nlos caballos ya se esconden en las acequias afiebrados \\nen este verso no se puede seguir  \\n\\neste es el verso en el que no se puede seguir  '"
      ]
     },
     "execution_count": 4,
     "metadata": {},
     "output_type": "execute_result"
    }
   ],
   "source": [
    "textos[0]"
   ]
  },
  {
   "cell_type": "code",
   "execution_count": 5,
   "id": "64e67f24",
   "metadata": {
    "scrolled": true
   },
   "outputs": [
    {
     "name": "stdout",
     "output_type": "stream",
     "text": [
      "este es el verso en el que la sangre se vuelve vino y el paraíso metrópoli  \n",
      "\n",
      "y la daga imaginaria se clava sobre pechos mojados \n",
      "este es el verso en el que entro al pueblo  \n",
      "\n",
      "y pregunto por ella y por un bar llamado el patio\n",
      "todos volteamos hacia el mismo lugar todos cometimos el mismo error  \n",
      "\n",
      "caminé por estos versos para olvidar tormentos y sentí un alivio pasajero al ver  jacarandás en flor  \n",
      "\n",
      "pero luego todo volvió de golpe y no pude sino escupir sobre estas calles  \n",
      "\n",
      "en este verso llueve como lloverá en el último otoño\n",
      "por fin el actor no es el héroe por fin no hay nada que entender  \n",
      "\n",
      "en dos días llegarán al sur privado de sur  \n",
      "\n",
      "los caballos ya se esconden en las acequias afiebrados \n",
      "en este verso no se puede seguir  \n",
      "\n",
      "este es el verso en el que no se puede seguir  \n"
     ]
    }
   ],
   "source": [
    "# Convertir el elemento en varias líneas en elementos individuales\n",
    "textos_convertida = textos[0].split('\\n')\n",
    "\n",
    "# Imprimir la lista convertida\n",
    "for i in textos_convertida:\n",
    "    print(i)"
   ]
  },
  {
   "cell_type": "code",
   "execution_count": 6,
   "id": "0ae5901f",
   "metadata": {},
   "outputs": [
    {
     "data": {
      "text/plain": [
       "['este es el verso en el que la sangre se vuelve vino y el paraíso metrópoli  ',\n",
       " '',\n",
       " 'y la daga imaginaria se clava sobre pechos mojados ',\n",
       " 'este es el verso en el que entro al pueblo  ',\n",
       " '',\n",
       " 'y pregunto por ella y por un bar llamado el patio',\n",
       " 'todos volteamos hacia el mismo lugar todos cometimos el mismo error  ',\n",
       " '',\n",
       " 'caminé por estos versos para olvidar tormentos y sentí un alivio pasajero al ver  jacarandás en flor  ',\n",
       " '',\n",
       " 'pero luego todo volvió de golpe y no pude sino escupir sobre estas calles  ',\n",
       " '',\n",
       " 'en este verso llueve como lloverá en el último otoño',\n",
       " 'por fin el actor no es el héroe por fin no hay nada que entender  ',\n",
       " '',\n",
       " 'en dos días llegarán al sur privado de sur  ',\n",
       " '',\n",
       " 'los caballos ya se esconden en las acequias afiebrados ',\n",
       " 'en este verso no se puede seguir  ',\n",
       " '',\n",
       " 'este es el verso en el que no se puede seguir  ']"
      ]
     },
     "execution_count": 6,
     "metadata": {},
     "output_type": "execute_result"
    }
   ],
   "source": [
    "textos_convertida"
   ]
  },
  {
   "cell_type": "code",
   "execution_count": 7,
   "id": "9fab70ab",
   "metadata": {},
   "outputs": [
    {
     "name": "stdout",
     "output_type": "stream",
     "text": [
      "['este es el verso en el que la sangre se vuelve vino y el paraíso metrópoli  ', 'y la daga imaginaria se clava sobre pechos mojados ', 'este es el verso en el que entro al pueblo  ', 'y pregunto por ella y por un bar llamado el patio', 'todos volteamos hacia el mismo lugar todos cometimos el mismo error  ', 'caminé por estos versos para olvidar tormentos y sentí un alivio pasajero al ver  jacarandás en flor  ', 'pero luego todo volvió de golpe y no pude sino escupir sobre estas calles  ', 'en este verso llueve como lloverá en el último otoño', 'por fin el actor no es el héroe por fin no hay nada que entender  ', 'en dos días llegarán al sur privado de sur  ', 'los caballos ya se esconden en las acequias afiebrados ', 'en este verso no se puede seguir  ', 'este es el verso en el que no se puede seguir  ']\n"
     ]
    }
   ],
   "source": [
    "textos_limpio = [linea for linea in textos_convertida if linea]\n",
    "print(textos_limpio)"
   ]
  },
  {
   "cell_type": "code",
   "execution_count": 8,
   "id": "3a049594",
   "metadata": {},
   "outputs": [
    {
     "name": "stdout",
     "output_type": "stream",
     "text": [
      "este es el verso en el que la sangre se vuelve vino y el paraíso metrópoli\n",
      "y la daga imaginaria se clava sobre pechos mojados\n",
      "este es el verso en el que entro al pueblo\n",
      "y pregunto por ella y por un bar llamado el patio\n",
      "todos volteamos hacia el mismo lugar todos cometimos el mismo error\n",
      "caminé por estos versos para olvidar tormentos y sentí un alivio pasajero al ver  jacarandás en flor\n",
      "pero luego todo volvió de golpe y no pude sino escupir sobre estas calles\n",
      "en este verso llueve como lloverá en el último otoño\n",
      "por fin el actor no es el héroe por fin no hay nada que entender\n",
      "en dos días llegarán al sur privado de sur\n",
      "los caballos ya se esconden en las acequias afiebrados\n",
      "en este verso no se puede seguir\n",
      "este es el verso en el que no se puede seguir\n"
     ]
    }
   ],
   "source": [
    "# Eliminar los espacios en blanco adicionales al final de cada elemento\n",
    "textos_limpio2 = [elemento.strip() for elemento in textos_limpio]\n",
    "\n",
    "# Imprimir la lista actualizada\n",
    "for elemento in textos_limpio2:\n",
    "    print(elemento)"
   ]
  },
  {
   "cell_type": "code",
   "execution_count": 9,
   "id": "772a2a35",
   "metadata": {},
   "outputs": [
    {
     "data": {
      "text/plain": [
       "['este es el verso en el que la sangre se vuelve vino y el paraíso metrópoli',\n",
       " 'y la daga imaginaria se clava sobre pechos mojados',\n",
       " 'este es el verso en el que entro al pueblo',\n",
       " 'y pregunto por ella y por un bar llamado el patio',\n",
       " 'todos volteamos hacia el mismo lugar todos cometimos el mismo error',\n",
       " 'caminé por estos versos para olvidar tormentos y sentí un alivio pasajero al ver  jacarandás en flor',\n",
       " 'pero luego todo volvió de golpe y no pude sino escupir sobre estas calles',\n",
       " 'en este verso llueve como lloverá en el último otoño',\n",
       " 'por fin el actor no es el héroe por fin no hay nada que entender',\n",
       " 'en dos días llegarán al sur privado de sur',\n",
       " 'los caballos ya se esconden en las acequias afiebrados',\n",
       " 'en este verso no se puede seguir',\n",
       " 'este es el verso en el que no se puede seguir']"
      ]
     },
     "execution_count": 9,
     "metadata": {},
     "output_type": "execute_result"
    }
   ],
   "source": [
    "textos_limpio2"
   ]
  },
  {
   "cell_type": "code",
   "execution_count": 10,
   "id": "8d9a71c6",
   "metadata": {},
   "outputs": [],
   "source": [
    "import openpyxl\n",
    "\n",
    "# Crear un nuevo libro de Excel\n",
    "libro_excel = openpyxl.Workbook()\n",
    "\n",
    "# Obtener la hoja activa\n",
    "hoja_activa = libro_excel.active\n",
    "\n",
    "# Lista de elementos\n",
    "##textos_limpio2\n",
    "\n",
    "# Copiar cada elemento en una celda\n",
    "for indice, linea in enumerate(textos_limpio2):\n",
    "    hoja_activa.cell(row=indice+1, column=1).value = linea\n",
    "\n",
    "# Guardar el libro de Excel\n",
    "libro_excel.save('poema_limpio.xlsx')"
   ]
  },
  {
   "cell_type": "code",
   "execution_count": null,
   "id": "ab04d0f6",
   "metadata": {},
   "outputs": [],
   "source": []
  }
 ],
 "metadata": {
  "kernelspec": {
   "display_name": "Python 3 (ipykernel)",
   "language": "python",
   "name": "python3"
  },
  "language_info": {
   "codemirror_mode": {
    "name": "ipython",
    "version": 3
   },
   "file_extension": ".py",
   "mimetype": "text/x-python",
   "name": "python",
   "nbconvert_exporter": "python",
   "pygments_lexer": "ipython3",
   "version": "3.9.13"
  }
 },
 "nbformat": 4,
 "nbformat_minor": 5
}
